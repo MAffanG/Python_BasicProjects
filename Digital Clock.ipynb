{
 "cells": [
  {
   "cell_type": "code",
   "execution_count": 1,
   "metadata": {},
   "outputs": [],
   "source": [
    "from tkinter import *\n",
    "from tkinter import ttk\n",
    "from tkinter import font\n",
    "import time\n",
    "import datetime\n",
    "\n",
    "def quit(*args):\n",
    "    root.destroy()\n",
    "    \n",
    "    \n",
    "def clock_time():\n",
    "    #Get the time remaining until the event:\n",
    "    #time=datetime.datetime.now()\n",
    "    time=datetime.datetime.now()\n",
    "    #time=(time.strftime(\"%Y-%m-%d %H:%M:%S\"))\n",
    "    time=(time.strftime(\"%H:%M:%S\"))\n",
    "    \n",
    "    txt.set(time)\n",
    "    \n",
    "    root.after(1000,clock_time)\n",
    "    \n",
    "root=Tk()\n",
    "root.attributes(\"-fullscreen\",False)\n",
    "root.configure(background='black')\n",
    "root.bind(\"x\",quit)\n",
    "root.after(1000,clock_time)\n",
    "\n",
    "\n",
    "fnt= font.Font(family='Helvetica',size=120,weight='bold')\n",
    "txt= StringVar()\n",
    "lbl= ttk.Label(root,textvariable=txt,font=fnt,foreground=\"white\",background=\"black\")\n",
    "lbl.place(relx=0.5,rely=0.5,anchor=CENTER)\n",
    "\n",
    "\n",
    "root.mainloop()"
   ]
  },
  {
   "cell_type": "code",
   "execution_count": null,
   "metadata": {},
   "outputs": [],
   "source": []
  }
 ],
 "metadata": {
  "kernelspec": {
   "display_name": "Python 3",
   "language": "python",
   "name": "python3"
  },
  "language_info": {
   "codemirror_mode": {
    "name": "ipython",
    "version": 3
   },
   "file_extension": ".py",
   "mimetype": "text/x-python",
   "name": "python",
   "nbconvert_exporter": "python",
   "pygments_lexer": "ipython3",
   "version": "3.8.8"
  }
 },
 "nbformat": 4,
 "nbformat_minor": 4
}
